{
 "cells": [
  {
   "cell_type": "code",
   "execution_count": 1,
   "id": "8b68c877",
   "metadata": {},
   "outputs": [],
   "source": [
    "# make usual imports\n",
    "import pandas as pd\n",
    "import requests\n",
    "from bs4 import BeautifulSoup"
   ]
  },
  {
   "cell_type": "code",
   "execution_count": 2,
   "id": "73468773",
   "metadata": {},
   "outputs": [],
   "source": [
    "url = \"https://www.amazon.com/s?i=stripbooks&bbn=17&rh=n%3A17%2Cp_n_feature_browse-bin%3A2656020011&s=review-count-rank&dc&qid=1680455945&rnid=618072011&ref=sr_st_review-count-rank&ds=v1%3AD%2B%2FLmRcmwetKrlzt63V3FOoz6W56Mk0S8T%2FLXn1fwP4\""
   ]
  },
  {
   "cell_type": "code",
   "execution_count": 3,
   "id": "371bb349",
   "metadata": {},
   "outputs": [],
   "source": [
    "page = requests.get(url)\n",
    "soup = BeautifulSoup(page.content, \"html.parser\")\n",
    "results_url = soup.find_all(\"div\", class_= \"s-main-slot s-result-list s-search-results sg-row\")"
   ]
  },
  {
   "cell_type": "code",
   "execution_count": 4,
   "id": "7d5b5351",
   "metadata": {},
   "outputs": [
    {
     "data": {
      "text/plain": [
       "[]"
      ]
     },
     "execution_count": 4,
     "metadata": {},
     "output_type": "execute_result"
    }
   ],
   "source": [
    "results_url"
   ]
  },
  {
   "cell_type": "code",
   "execution_count": null,
   "id": "af98bdcf",
   "metadata": {},
   "outputs": [],
   "source": []
  }
 ],
 "metadata": {
  "kernelspec": {
   "display_name": "middle-earth",
   "language": "python",
   "name": "middle-earth"
  },
  "language_info": {
   "codemirror_mode": {
    "name": "ipython",
    "version": 3
   },
   "file_extension": ".py",
   "mimetype": "text/x-python",
   "name": "python",
   "nbconvert_exporter": "python",
   "pygments_lexer": "ipython3",
   "version": "3.8.16"
  }
 },
 "nbformat": 4,
 "nbformat_minor": 5
}
