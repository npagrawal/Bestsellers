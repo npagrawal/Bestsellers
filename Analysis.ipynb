{
 "cells": [
  {
   "cell_type": "code",
   "execution_count": 11,
   "id": "26f86133",
   "metadata": {},
   "outputs": [],
   "source": [
    "import pandas as pd\n",
    "import matplotlib.pyplot as plt\n",
    "%matplotlib inline\n",
    "import seaborn as sns"
   ]
  },
  {
   "cell_type": "code",
   "execution_count": 34,
   "id": "fcff9b8c",
   "metadata": {},
   "outputs": [
    {
     "name": "stderr",
     "output_type": "stream",
     "text": [
      "/var/folders/x7/5j65n6x57hq9g5yst5z9k1m00000gn/T/ipykernel_30261/2942332281.py:4: FutureWarning: The default value of regex will change from True to False in a future version.\n",
      "  df[\"publisher\"] = df[\"publisher\"].str.replace(\", $24.95\", \"\")\n"
     ]
    },
    {
     "data": {
      "text/html": [
       "<div>\n",
       "<style scoped>\n",
       "    .dataframe tbody tr th:only-of-type {\n",
       "        vertical-align: middle;\n",
       "    }\n",
       "\n",
       "    .dataframe tbody tr th {\n",
       "        vertical-align: top;\n",
       "    }\n",
       "\n",
       "    .dataframe thead th {\n",
       "        text-align: right;\n",
       "    }\n",
       "</style>\n",
       "<table border=\"1\" class=\"dataframe\">\n",
       "  <thead>\n",
       "    <tr style=\"text-align: right;\">\n",
       "      <th></th>\n",
       "      <th>date</th>\n",
       "      <th>title</th>\n",
       "      <th>author</th>\n",
       "      <th>publisher</th>\n",
       "      <th>description</th>\n",
       "    </tr>\n",
       "  </thead>\n",
       "  <tbody>\n",
       "    <tr>\n",
       "      <th>0</th>\n",
       "      <td>3/19/2023</td>\n",
       "      <td>Storm Watch</td>\n",
       "      <td>C.J. Box</td>\n",
       "      <td>Putnam</td>\n",
       "      <td>The 23rd book in the Joe Pickett series. Joe a...</td>\n",
       "    </tr>\n",
       "    <tr>\n",
       "      <th>1</th>\n",
       "      <td>3/19/2023</td>\n",
       "      <td>Lessons In Chemistry</td>\n",
       "      <td>Bonnie Garmus</td>\n",
       "      <td>Doubleday</td>\n",
       "      <td>A scientist and single mother living in Califo...</td>\n",
       "    </tr>\n",
       "    <tr>\n",
       "      <th>2</th>\n",
       "      <td>3/19/2023</td>\n",
       "      <td>A Day Of Fallen Night</td>\n",
       "      <td>Samantha Shannon</td>\n",
       "      <td>Bloomsbury</td>\n",
       "      <td>A prequel to “The Priory of the Orange Tree.” ...</td>\n",
       "    </tr>\n",
       "    <tr>\n",
       "      <th>3</th>\n",
       "      <td>3/19/2023</td>\n",
       "      <td>Tomorrow, And Tomorrow, And Tomorrow</td>\n",
       "      <td>Gabrielle Zevin</td>\n",
       "      <td>Knopf</td>\n",
       "      <td>Two friends find their partnership challenged ...</td>\n",
       "    </tr>\n",
       "    <tr>\n",
       "      <th>4</th>\n",
       "      <td>3/19/2023</td>\n",
       "      <td>I Have Some Questions For You</td>\n",
       "      <td>Rebecca Makkai</td>\n",
       "      <td>Viking</td>\n",
       "      <td>A film professor and podcaster is invited back...</td>\n",
       "    </tr>\n",
       "    <tr>\n",
       "      <th>...</th>\n",
       "      <td>...</td>\n",
       "      <td>...</td>\n",
       "      <td>...</td>\n",
       "      <td>...</td>\n",
       "      <td>...</td>\n",
       "    </tr>\n",
       "    <tr>\n",
       "      <th>10830</th>\n",
       "      <td>6/8/2008</td>\n",
       "      <td>Invincible</td>\n",
       "      <td>Troy Denning</td>\n",
       "      <td>Del Rey/Ballantine</td>\n",
       "      <td>The New Jedi order battles Darth Caedus, Darth...</td>\n",
       "    </tr>\n",
       "    <tr>\n",
       "      <th>10831</th>\n",
       "      <td>6/8/2008</td>\n",
       "      <td>Bright Shiny Morning</td>\n",
       "      <td>James Frey</td>\n",
       "      <td>Harper</td>\n",
       "      <td>A novel, set in Los Angeles, by the author of ...</td>\n",
       "    </tr>\n",
       "    <tr>\n",
       "      <th>10832</th>\n",
       "      <td>6/8/2008</td>\n",
       "      <td>The Art Of Racing In The Rain</td>\n",
       "      <td>Garth Stein</td>\n",
       "      <td>Harper</td>\n",
       "      <td>A Lab-terrier mix with great insight into the ...</td>\n",
       "    </tr>\n",
       "    <tr>\n",
       "      <th>10833</th>\n",
       "      <td>6/8/2008</td>\n",
       "      <td>Twenty Wishes</td>\n",
       "      <td>Debbie Macomber</td>\n",
       "      <td>Mira</td>\n",
       "      <td>A widow who owns a bookstore on Blossom Street...</td>\n",
       "    </tr>\n",
       "    <tr>\n",
       "      <th>10834</th>\n",
       "      <td>6/8/2008</td>\n",
       "      <td>The Steel Wave</td>\n",
       "      <td>Jeff Shaara</td>\n",
       "      <td>Ballantine</td>\n",
       "      <td>A novel about the Allied invasion in France in...</td>\n",
       "    </tr>\n",
       "  </tbody>\n",
       "</table>\n",
       "<p>10835 rows × 5 columns</p>\n",
       "</div>"
      ],
      "text/plain": [
       "            date                                 title             author  \\\n",
       "0      3/19/2023                           Storm Watch           C.J. Box   \n",
       "1      3/19/2023                  Lessons In Chemistry      Bonnie Garmus   \n",
       "2      3/19/2023                 A Day Of Fallen Night   Samantha Shannon   \n",
       "3      3/19/2023  Tomorrow, And Tomorrow, And Tomorrow    Gabrielle Zevin   \n",
       "4      3/19/2023         I Have Some Questions For You     Rebecca Makkai   \n",
       "...          ...                                   ...                ...   \n",
       "10830   6/8/2008                            Invincible       Troy Denning   \n",
       "10831   6/8/2008                  Bright Shiny Morning         James Frey   \n",
       "10832   6/8/2008         The Art Of Racing In The Rain        Garth Stein   \n",
       "10833   6/8/2008                         Twenty Wishes    Debbie Macomber   \n",
       "10834   6/8/2008                        The Steel Wave        Jeff Shaara   \n",
       "\n",
       "                publisher                                        description  \n",
       "0                  Putnam  The 23rd book in the Joe Pickett series. Joe a...  \n",
       "1               Doubleday  A scientist and single mother living in Califo...  \n",
       "2              Bloomsbury  A prequel to “The Priory of the Orange Tree.” ...  \n",
       "3                   Knopf  Two friends find their partnership challenged ...  \n",
       "4                  Viking  A film professor and podcaster is invited back...  \n",
       "...                   ...                                                ...  \n",
       "10830  Del Rey/Ballantine  The New Jedi order battles Darth Caedus, Darth...  \n",
       "10831              Harper  A novel, set in Los Angeles, by the author of ...  \n",
       "10832              Harper  A Lab-terrier mix with great insight into the ...  \n",
       "10833                Mira  A widow who owns a bookstore on Blossom Street...  \n",
       "10834          Ballantine  A novel about the Allied invasion in France in...  \n",
       "\n",
       "[10835 rows x 5 columns]"
      ]
     },
     "execution_count": 34,
     "metadata": {},
     "output_type": "execute_result"
    }
   ],
   "source": [
    "df = pd.read_csv(\"data/bestsellers_df.csv\")\n",
    "df = df.drop(columns = \"Unnamed: 0\")\n",
    "df[\"publisher\"] = df[\"publisher\"].str.replace(\"&amp;\", \"and\")\n",
    "df[\"publisher\"] = df[\"publisher\"].str.replace(\", $24.95\", \"\")\n",
    "df[\"title\"] = df[\"title\"].str.title()\n",
    "df"
   ]
  },
  {
   "cell_type": "code",
   "execution_count": 21,
   "id": "b22ef111",
   "metadata": {},
   "outputs": [
    {
     "data": {
      "image/png": "[encoded data removed]",
      "text/plain": [
       "<Figure size 800x800 with 1 Axes>"
      ]
     },
     "metadata": {},
     "output_type": "display_data"
    }
   ],
   "source": [
    "# create a dataframe with publisher counts\n",
    "pub_counts = df[\"publisher\"].value_counts().head(15).reset_index()\n",
    "pub_counts.columns = [\"publisher\", \"count\"]\n",
    "\n",
    "# count graph\n",
    "fig, ax = plt.subplots(figsize=(8, 8))\n",
    "sns.barplot(x=\"publisher\", y=\"count\", data=pub_counts)\n",
    "ax.set_title('Bestselling Publishers by Count')\n",
    "ax.set_xlabel('Publishers')\n",
    "ax.set_ylabel('Count')\n",
    "ax.set_xticklabels(ax.get_xticklabels(), rotation=90);"
   ]
  },
  {
   "cell_type": "code",
   "execution_count": 27,
   "id": "222b8d60",
   "metadata": {},
   "outputs": [],
   "source": [
    "big_five = [\"Penguin/Random House\", \"Hachette\", \"Harper Collins\", \"Simon and Schuster\", \"Macmillan\"]"
   ]
  },
  {
   "cell_type": "code",
   "execution_count": 35,
   "id": "23260081",
   "metadata": {},
   "outputs": [
    {
     "data": {
      "text/plain": [
       "Little, Brown     1083\n",
       "Putnam            1067\n",
       "Grand Central      722\n",
       "Doubleday          600\n",
       "Knopf              511\n",
       "                  ... \n",
       "HarperVoyager        1\n",
       "Penguin              1\n",
       "Harlequin Mira       1\n",
       "Penguin Group        1\n",
       "Viking, $24.95       1\n",
       "Name: publisher, Length: 180, dtype: int64"
      ]
     },
     "execution_count": 35,
     "metadata": {},
     "output_type": "execute_result"
    }
   ],
   "source": [
    "df[\"publisher\"].value_counts()"
   ]
  },
  {
   "cell_type": "code",
   "execution_count": null,
   "id": "1b69778d",
   "metadata": {},
   "outputs": [],
   "source": []
  }
 ],
 "metadata": {
  "kernelspec": {
   "display_name": "middle-earth",
   "language": "python",
   "name": "middle-earth"
  },
  "language_info": {
   "codemirror_mode": {
    "name": "ipython",
    "version": 3
   },
   "file_extension": ".py",
   "mimetype": "text/x-python",
   "name": "python",
   "nbconvert_exporter": "python",
   "pygments_lexer": "ipython3",
   "version": "3.8.16"
  }
 },
 "nbformat": 4,
 "nbformat_minor": 5
}
