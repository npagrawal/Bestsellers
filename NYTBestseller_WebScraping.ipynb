{
 "cells": [
  {
   "cell_type": "code",
   "execution_count": 266,
   "id": "accdb31f",
   "metadata": {},
   "outputs": [],
   "source": [
    "# make usual imports\n",
    "import pandas as pd\n",
    "import requests\n",
    "from bs4 import BeautifulSoup\n",
    "import datetime"
   ]
  },
  {
   "cell_type": "code",
   "execution_count": 2,
   "id": "dd0b35e3",
   "metadata": {},
   "outputs": [],
   "source": [
    "# make list of Sundays since that's the day the NYTimes publishes the bestsellers list\n",
    "start_date = datetime.date(2023, 3, 19)\n",
    "end_date = datetime.date(2008, 6, 1)\n",
    "\n",
    "sundays = []\n",
    "\n",
    "while start_date > end_date:\n",
    "    if start_date.weekday() == 6:  # Sunday has a weekday index of 6\n",
    "        sundays.append([start_date.year, start_date.month, start_date.day])\n",
    "    start_date -= datetime.timedelta(days=1)"
   ]
  },
  {
   "cell_type": "code",
   "execution_count": 133,
   "id": "47e537bb",
   "metadata": {},
   "outputs": [],
   "source": [
    "# turn dates into strings\n",
    "date_list = []\n",
    "for sunday in sundays:\n",
    "    year = sunday[0]\n",
    "    month = sunday[1]\n",
    "    day = sunday[2]\n",
    "    date = f\"{month}/{day}/{year}\"\n",
    "    date_list.append(date)"
   ]
  },
  {
   "cell_type": "code",
   "execution_count": 4,
   "id": "0a3bbdee",
   "metadata": {},
   "outputs": [],
   "source": [
    "# make list of urls using list of Sundays\n",
    "url_list = []\n",
    "for element in sundays:\n",
    "    year = str(element[0])\n",
    "    if element[1]<=9:\n",
    "        month = \"0\" + str(element[1])\n",
    "    else:\n",
    "        month = str(element[1])\n",
    "    if element[2]<=9:\n",
    "        day = \"0\" + str(element[2])\n",
    "    else:\n",
    "        day = str(element[2])\n",
    "    url_list.append(f\"https://www.nytimes.com/books/best-sellers/{year}/{month}/{day}/hardcover-fiction/\")"
   ]
  },
  {
   "cell_type": "code",
   "execution_count": 5,
   "id": "2770cc96",
   "metadata": {},
   "outputs": [],
   "source": [
    "# collect all html from urls in url_list\n",
    "html_list = []   \n",
    "for url in url_list:    \n",
    "    page = requests.get(url)\n",
    "    soup = BeautifulSoup(page.content, \"html.parser\")\n",
    "    results_url = soup.find_all(\"li\", class_=\"css-13y32ub\")\n",
    "    html_list.append(results_url)"
   ]
  },
  {
   "cell_type": "code",
   "execution_count": 33,
   "id": "d78d79fd",
   "metadata": {},
   "outputs": [],
   "source": [
    "# turn all values into strings\n",
    "html_list = [str(html) for html in html_list]\n",
    "\n",
    "# make dictionary of dates and html \n",
    "date_and_html = dict(zip(date_list, html_list))"
   ]
  },
  {
   "cell_type": "code",
   "execution_count": 233,
   "id": "dd6197b5",
   "metadata": {},
   "outputs": [],
   "source": [
    "# make dictionary of dates, titles, authors, publishers, and descriptions\n",
    "bestsellers = []\n",
    "for date in date_list:\n",
    "    book = date_and_html[date].split(\"<\")\n",
    "    name = [url.split(\">\")[1] for url in book if \"itemprop=name\" in url.replace('\"', \"\")]\n",
    "    author = [url.split(\">\")[1] for url in book if \"itemprop=author\" in url.replace('\"', \"\")]\n",
    "    publisher = [url.split(\">\")[1] for url in book if \"itemprop=publisher\" in url.replace('\"', \"\")]\n",
    "    description = [url.split(\">\")[1] for url in book if \"itemprop=description\" in url.replace('\"', \"\")]\n",
    "    dates_list2 = [date] * len(name)\n",
    "    dict_date = {\"date\": dates_list2, \"title\": name, \"author\": author, \n",
    "                 \"publisher\": publisher, \"description\": description}\n",
    "    bestsellers.append(dict_date)"
   ]
  },
  {
   "cell_type": "code",
   "execution_count": 234,
   "id": "9fec62d2",
   "metadata": {},
   "outputs": [],
   "source": [
    "# turn dictionary into dataframe\n",
    "bestsellers_df = pd.DataFrame(bestsellers)"
   ]
  },
  {
   "cell_type": "code",
   "execution_count": 240,
   "id": "e3f4d84f",
   "metadata": {},
   "outputs": [
    {
     "data": {
      "text/plain": [
       "[]"
      ]
     },
     "execution_count": 240,
     "metadata": {},
     "output_type": "execute_result"
    }
   ],
   "source": [
    "# check to see if the nested links are not the same length\n",
    "wrong_list = []\n",
    "for index, row in bestsellers_df.iterrows():\n",
    "    if len(row[\"title\"]) != len(row[\"author\"]):\n",
    "        wrong_list.append(index)\n",
    "    elif len(row[\"title\"]) != len(row[\"publisher\"]):\n",
    "        wrong_list.append(index)\n",
    "    elif len(row[\"title\"]) != len(row[\"description\"]):\n",
    "        wrong_list.append(index)\n",
    "wrong_list"
   ]
  },
  {
   "cell_type": "code",
   "execution_count": 244,
   "id": "fb737e8d",
   "metadata": {},
   "outputs": [],
   "source": [
    "# explode out nested lists and bring back together in new dataframe\n",
    "bs_dates = bestsellers_df[\"date\"]\n",
    "bs_dates = bs_dates.explode(\"date\")\n",
    "\n",
    "bs_titles = bestsellers_df[\"title\"]\n",
    "bs_titles = bs_titles.explode(\"title\")\n",
    "\n",
    "bs_authors = bestsellers_df[\"author\"]\n",
    "bs_authors = bs_authors.explode(\"author\")\n",
    "bs_authors = bs_authors[bs_authors.str.startswith(\"by\")]\n",
    "\n",
    "bs_publishers = bestsellers_df[\"publisher\"]\n",
    "bs_publishers = bs_publishers.explode(\"publisher\")\n",
    "\n",
    "bs_description = bestsellers_df[\"description\"]\n",
    "bs_description = bs_description.explode(\"description\")\n",
    "\n",
    "df = pd.DataFrame({\"date\": bs_dates, \"title\": bs_titles, \"author\": bs_authors,\n",
    "                  \"publisher\": bs_publishers, \"description\": bs_description})\n",
    "\n",
    "# clean up author column\n",
    "df[\"author\"] = df[\"author\"].str.replace(\"by\", \"\")"
   ]
  },
  {
   "cell_type": "code",
   "execution_count": 246,
   "id": "764ba715",
   "metadata": {},
   "outputs": [
    {
     "data": {
      "text/html": [
       "<div>\n",
       "<style scoped>\n",
       "    .dataframe tbody tr th:only-of-type {\n",
       "        vertical-align: middle;\n",
       "    }\n",
       "\n",
       "    .dataframe tbody tr th {\n",
       "        vertical-align: top;\n",
       "    }\n",
       "\n",
       "    .dataframe thead th {\n",
       "        text-align: right;\n",
       "    }\n",
       "</style>\n",
       "<table border=\"1\" class=\"dataframe\">\n",
       "  <thead>\n",
       "    <tr style=\"text-align: right;\">\n",
       "      <th></th>\n",
       "      <th>date</th>\n",
       "      <th>title</th>\n",
       "      <th>author</th>\n",
       "      <th>publisher</th>\n",
       "      <th>description</th>\n",
       "    </tr>\n",
       "  </thead>\n",
       "  <tbody>\n",
       "    <tr>\n",
       "      <th>0</th>\n",
       "      <td>3/19/2023</td>\n",
       "      <td>STORM WATCH</td>\n",
       "      <td>C.J. Box</td>\n",
       "      <td>Putnam</td>\n",
       "      <td>The 23rd book in the Joe Pickett series. Joe a...</td>\n",
       "    </tr>\n",
       "    <tr>\n",
       "      <th>1</th>\n",
       "      <td>3/19/2023</td>\n",
       "      <td>LESSONS IN CHEMISTRY</td>\n",
       "      <td>Bonnie Garmus</td>\n",
       "      <td>Doubleday</td>\n",
       "      <td>A scientist and single mother living in Califo...</td>\n",
       "    </tr>\n",
       "    <tr>\n",
       "      <th>2</th>\n",
       "      <td>3/19/2023</td>\n",
       "      <td>A DAY OF FALLEN NIGHT</td>\n",
       "      <td>Samantha Shannon</td>\n",
       "      <td>Bloomsbury</td>\n",
       "      <td>A prequel to “The Priory of the Orange Tree.” ...</td>\n",
       "    </tr>\n",
       "    <tr>\n",
       "      <th>3</th>\n",
       "      <td>3/19/2023</td>\n",
       "      <td>TOMORROW, AND TOMORROW, AND TOMORROW</td>\n",
       "      <td>Gabrielle Zevin</td>\n",
       "      <td>Knopf</td>\n",
       "      <td>Two friends find their partnership challenged ...</td>\n",
       "    </tr>\n",
       "    <tr>\n",
       "      <th>4</th>\n",
       "      <td>3/19/2023</td>\n",
       "      <td>I HAVE SOME QUESTIONS FOR YOU</td>\n",
       "      <td>Rebecca Makkai</td>\n",
       "      <td>Viking</td>\n",
       "      <td>A film professor and podcaster is invited back...</td>\n",
       "    </tr>\n",
       "    <tr>\n",
       "      <th>...</th>\n",
       "      <td>...</td>\n",
       "      <td>...</td>\n",
       "      <td>...</td>\n",
       "      <td>...</td>\n",
       "      <td>...</td>\n",
       "    </tr>\n",
       "    <tr>\n",
       "      <th>10830</th>\n",
       "      <td>6/8/2008</td>\n",
       "      <td>INVINCIBLE</td>\n",
       "      <td>Troy Denning</td>\n",
       "      <td>Del Rey/Ballantine</td>\n",
       "      <td>The New Jedi order battles Darth Caedus, Darth...</td>\n",
       "    </tr>\n",
       "    <tr>\n",
       "      <th>10831</th>\n",
       "      <td>6/8/2008</td>\n",
       "      <td>BRIGHT SHINY MORNING</td>\n",
       "      <td>James Frey</td>\n",
       "      <td>Harper</td>\n",
       "      <td>A novel, set in Los Angeles, by the author of ...</td>\n",
       "    </tr>\n",
       "    <tr>\n",
       "      <th>10832</th>\n",
       "      <td>6/8/2008</td>\n",
       "      <td>THE ART OF RACING IN THE RAIN</td>\n",
       "      <td>Garth Stein</td>\n",
       "      <td>Harper</td>\n",
       "      <td>A Lab-terrier mix with great insight into the ...</td>\n",
       "    </tr>\n",
       "    <tr>\n",
       "      <th>10833</th>\n",
       "      <td>6/8/2008</td>\n",
       "      <td>TWENTY WISHES</td>\n",
       "      <td>Debbie Macomber</td>\n",
       "      <td>Mira</td>\n",
       "      <td>A widow who owns a bookstore on Blossom Street...</td>\n",
       "    </tr>\n",
       "    <tr>\n",
       "      <th>10834</th>\n",
       "      <td>6/8/2008</td>\n",
       "      <td>THE STEEL WAVE</td>\n",
       "      <td>Jeff Shaara</td>\n",
       "      <td>Ballantine</td>\n",
       "      <td>A novel about the Allied invasion in France in...</td>\n",
       "    </tr>\n",
       "  </tbody>\n",
       "</table>\n",
       "<p>10835 rows × 5 columns</p>\n",
       "</div>"
      ],
      "text/plain": [
       "            date                                 title             author  \\\n",
       "0      3/19/2023                           STORM WATCH           C.J. Box   \n",
       "1      3/19/2023                  LESSONS IN CHEMISTRY      Bonnie Garmus   \n",
       "2      3/19/2023                 A DAY OF FALLEN NIGHT   Samantha Shannon   \n",
       "3      3/19/2023  TOMORROW, AND TOMORROW, AND TOMORROW    Gabrielle Zevin   \n",
       "4      3/19/2023         I HAVE SOME QUESTIONS FOR YOU     Rebecca Makkai   \n",
       "...          ...                                   ...                ...   \n",
       "10830   6/8/2008                            INVINCIBLE       Troy Denning   \n",
       "10831   6/8/2008                  BRIGHT SHINY MORNING         James Frey   \n",
       "10832   6/8/2008         THE ART OF RACING IN THE RAIN        Garth Stein   \n",
       "10833   6/8/2008                         TWENTY WISHES    Debbie Macomber   \n",
       "10834   6/8/2008                        THE STEEL WAVE        Jeff Shaara   \n",
       "\n",
       "                publisher                                        description  \n",
       "0                  Putnam  The 23rd book in the Joe Pickett series. Joe a...  \n",
       "1               Doubleday  A scientist and single mother living in Califo...  \n",
       "2              Bloomsbury  A prequel to “The Priory of the Orange Tree.” ...  \n",
       "3                   Knopf  Two friends find their partnership challenged ...  \n",
       "4                  Viking  A film professor and podcaster is invited back...  \n",
       "...                   ...                                                ...  \n",
       "10830  Del Rey/Ballantine  The New Jedi order battles Darth Caedus, Darth...  \n",
       "10831              Harper  A novel, set in Los Angeles, by the author of ...  \n",
       "10832              Harper  A Lab-terrier mix with great insight into the ...  \n",
       "10833                Mira  A widow who owns a bookstore on Blossom Street...  \n",
       "10834          Ballantine  A novel about the Allied invasion in France in...  \n",
       "\n",
       "[10835 rows x 5 columns]"
      ]
     },
     "execution_count": 246,
     "metadata": {},
     "output_type": "execute_result"
    }
   ],
   "source": [
    "# look at dataframe\n",
    "df.head()"
   ]
  },
  {
   "cell_type": "code",
   "execution_count": 269,
   "id": "796ce70e",
   "metadata": {},
   "outputs": [
    {
     "name": "stdout",
     "output_type": "stream",
     "text": [
      "<class 'pandas.core.frame.DataFrame'>\n",
      "RangeIndex: 10835 entries, 0 to 10834\n",
      "Data columns (total 5 columns):\n",
      " #   Column       Non-Null Count  Dtype \n",
      "---  ------       --------------  ----- \n",
      " 0   date         10835 non-null  object\n",
      " 1   title        10835 non-null  object\n",
      " 2   author       10835 non-null  object\n",
      " 3   publisher    10835 non-null  object\n",
      " 4   description  10835 non-null  object\n",
      "dtypes: object(5)\n",
      "memory usage: 423.4+ KB\n"
     ]
    }
   ],
   "source": [
    "# double check no nan values\n",
    "df.info()"
   ]
  },
  {
   "cell_type": "code",
   "execution_count": null,
   "id": "de200377",
   "metadata": {},
   "outputs": [],
   "source": [
    "# find all rows missing authors\n",
    "df.loc[df[\"author\"].isnull()]"
   ]
  },
  {
   "cell_type": "code",
   "execution_count": null,
   "id": "4f9f181c",
   "metadata": {},
   "outputs": [],
   "source": [
    "# manually input missing values\n",
    "df.iloc[[629],[2]] = \"Beatriz Williams, Karen White, and Lauren Willig\"\n",
    "df.iloc[[6628],[2]] = \"George R. R. Martin and Gardner Dozois\"\n",
    "df.iloc[[9279],[2]] = \"Charlaine Harris and Toni L. P. Kelner\""
   ]
  },
  {
   "cell_type": "code",
   "execution_count": 268,
   "id": "15d3e399",
   "metadata": {},
   "outputs": [],
   "source": [
    "df.to_csv(r'data/bestsellers_df.csv')"
   ]
  },
  {
   "cell_type": "code",
   "execution_count": null,
   "id": "b2f848db",
   "metadata": {},
   "outputs": [],
   "source": []
  }
 ],
 "metadata": {
  "kernelspec": {
   "display_name": "middle-earth",
   "language": "python",
   "name": "middle-earth"
  },
  "language_info": {
   "codemirror_mode": {
    "name": "ipython",
    "version": 3
   },
   "file_extension": ".py",
   "mimetype": "text/x-python",
   "name": "python",
   "nbconvert_exporter": "python",
   "pygments_lexer": "ipython3",
   "version": "3.8.16"
  }
 },
 "nbformat": 4,
 "nbformat_minor": 5
}
